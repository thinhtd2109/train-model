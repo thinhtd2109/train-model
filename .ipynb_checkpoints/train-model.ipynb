{
 "cells": [
  {
   "cell_type": "markdown",
   "metadata": {},
   "source": [
    "#### Imports"
   ]
  },
  {
   "cell_type": "code",
   "execution_count": 6,
   "id": "3fe61d1f-0ca3-4a40-8a14-48362f14cfa2",
   "metadata": {},
   "outputs": [],
   "source": [
    "import pandas as pd;\n",
    "import numpy as np;\n",
    "import matplotlib.pyplot as plt;\n",
    "plt.style.use(\"seaborn\")"
   ]
  },
  {
   "cell_type": "code",
   "execution_count": 4,
   "id": "cc79821b",
   "metadata": {},
   "outputs": [
    {
     "name": "stderr",
     "output_type": "stream",
     "text": [
      "/opt/anaconda3/envs/MLCOURSE/lib/python3.9/site-packages/sklearn/base.py:1151: DataConversionWarning: A column-vector y was passed when a 1d array was expected. Please change the shape of y to (n_samples,), for example using ravel().\n",
      "  return fit_method(estimator, *args, **kwargs)\n"
     ]
    },
    {
     "name": "stdout",
     "output_type": "stream",
     "text": [
      "13589.553620874727\n"
     ]
    },
    {
     "data": {
      "text/plain": [
       "['../predict.joblib']"
      ]
     },
     "execution_count": 4,
     "metadata": {},
     "output_type": "execute_result"
    }
   ],
   "source": [
    "import pandas as pd\n",
    "from sklearn.model_selection import train_test_split\n",
    "from sklearn.ensemble import RandomForestRegressor\n",
    "from sklearn.metrics import mean_squared_error\n",
    "import pickle\n",
    "from joblib import dump\n",
    "\n",
    "# Khai báo API key và Secret key\n",
    "api_key = 'lAPjYCKxxlsCWu82hk5UkMJpU3w6xmAHG3SD7oTwtnIYy1sQ58Yeu5s1L4erJJ3E'\n",
    "api_secret = 'u872WdYLmxJc8rgJhN6DAPiCI94UGJOEurhOFcWPBNFxEa03V8Txjl490lF5omB2'\n",
    "\n",
    "# Đọc file CSV\n",
    "df = pd.read_csv('../BTCUSDT_Historical_Data.csv')\n",
    "# Xử lý dữ liệu thiếu (nếu có)\n",
    "df = df.dropna()\n",
    "\n",
    "df['Prev_Low'] = df['Low'].shift(1).astype(float)\n",
    "df['Prev_Low'].fillna(0, inplace=True)\n",
    "\n",
    "df['Prev_High'] = df['High'].shift(1).astype(float)\n",
    "df['Prev_High'].fillna(0, inplace=True)\n",
    "\n",
    "df['Prev_Open'] = df['Open'].shift(1).astype(float)\n",
    "df['Prev_Open'].fillna(0, inplace=True)\n",
    "\n",
    "df['Prev_Close'] = df['Close'].shift(1).astype(float)\n",
    "df['Prev_Close'].fillna(0, inplace=True)\n",
    "\n",
    "df['Prev_Volume'] = df['Volume'].shift(1).astype(float)\n",
    "df['Prev_Volume'].fillna(0, inplace=True)\n",
    "\n",
    "# Đặt 'close' làm biến mục tiêu\n",
    "X = df[['Prev_Open', 'Prev_Close', 'Prev_Volume']]  \n",
    "y = df[['Close']] \n",
    "\n",
    "# Chia tập dữ liệu\n",
    "X_train, X_test, y_train, y_test = train_test_split(X, y, test_size=0.2, random_state=42)\n",
    "# Huấn luyện mô hình\n",
    "model = RandomForestRegressor(n_estimators=100, random_state=42)\n",
    "model.fit(X_train, y_train)\n",
    "\n",
    "# Dự đoán giá trên tập dữ liệu kiểm tra\n",
    "y_pred = model.predict(X_test)\n",
    "\n",
    "# Đánh giá mô hình\n",
    "mse = mean_squared_error(y_test, y_pred)\n",
    "print(mse)\n",
    "\n",
    "# Dự đoán cho một mẫu dữ liệu mới\n",
    "new_data = []\n",
    "\n",
    "dump(model, '../predict.joblib')\n",
    "\n"
   ]
  },
  {
   "cell_type": "code",
   "execution_count": 8,
   "id": "987c19ec",
   "metadata": {},
   "outputs": [
    {
     "name": "stdout",
     "output_type": "stream",
     "text": [
      "Predicted Close Price: [59533.1628]\n"
     ]
    },
    {
     "name": "stderr",
     "output_type": "stream",
     "text": [
      "/opt/anaconda3/envs/MLCOURSE/lib/python3.9/site-packages/sklearn/base.py:464: UserWarning: X does not have valid feature names, but RandomForestRegressor was fitted with feature names\n",
      "  warnings.warn(\n"
     ]
    }
   ],
   "source": [
    "\n",
    "from binance.client import Client\n",
    "from binance.enums import *\n",
    "from joblib import load \n",
    "model = load(\"../predict.joblib\")\n",
    "\n",
    "predicted_close = model.predict([[59790.20, 59516.73, 200.06916]])\n",
    "print(f'Predicted Close Price: {predicted_close}')"
   ]
  }
 ],
 "metadata": {
  "kernelspec": {
   "display_name": "Python 3 (ipykernel)",
   "language": "python",
   "name": "python3"
  },
  "language_info": {
   "codemirror_mode": {
    "name": "ipython",
    "version": 3
   },
   "file_extension": ".py",
   "mimetype": "text/x-python",
   "name": "python",
   "nbconvert_exporter": "python",
   "pygments_lexer": "ipython3",
   "version": "3.9.19"
  }
 },
 "nbformat": 4,
 "nbformat_minor": 5
}
