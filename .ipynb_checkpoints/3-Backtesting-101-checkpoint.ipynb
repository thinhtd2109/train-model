{
 "cells": [
  {
   "cell_type": "markdown",
   "id": "ad8cc76c-5bcd-4d63-96d7-0c0a7998f11b",
   "metadata": {},
   "source": [
    "#### Imports"
   ]
  },
  {
   "cell_type": "code",
   "execution_count": 6,
   "id": "3fe61d1f-0ca3-4a40-8a14-48362f14cfa2",
   "metadata": {},
   "outputs": [],
   "source": [
    "import pandas as pd;\n",
    "import numpy as np;\n",
    "import matplotlib.pyplot as plt;\n",
    "plt.style.use(\"seaborn\")"
   ]
  },
  {
   "cell_type": "code",
   "execution_count": 40,
   "id": "cc79821b",
   "metadata": {},
   "outputs": [
    {
     "name": "stderr",
     "output_type": "stream",
     "text": [
      "/var/folders/9w/cty2tz112fj5t0bq1v02jv580000gn/T/ipykernel_22373/1918637319.py:26: DataConversionWarning: A column-vector y was passed when a 1d array was expected. Please change the shape of y to (n_samples,), for example using ravel().\n",
      "  model.fit(X_train, y_train)\n"
     ]
    },
    {
     "name": "stdout",
     "output_type": "stream",
     "text": [
      "0.5941944968922349\n"
     ]
    },
    {
     "data": {
      "text/plain": [
       "['../predict.joblib']"
      ]
     },
     "execution_count": 40,
     "metadata": {},
     "output_type": "execute_result"
    }
   ],
   "source": [
    "import pandas as pd\n",
    "from sklearn.model_selection import train_test_split\n",
    "from sklearn.ensemble import RandomForestRegressor\n",
    "from sklearn.metrics import mean_squared_error\n",
    "import pickle\n",
    "from joblib import dump\n",
    "\n",
    "# Khai báo API key và Secret key\n",
    "api_key = 'lAPjYCKxxlsCWu82hk5UkMJpU3w6xmAHG3SD7oTwtnIYy1sQ58Yeu5s1L4erJJ3E'\n",
    "api_secret = 'u872WdYLmxJc8rgJhN6DAPiCI94UGJOEurhOFcWPBNFxEa03V8Txjl490lF5omB2'\n",
    "\n",
    "# Đọc file CSV\n",
    "df = pd.read_csv('../œ.csv')\n",
    "\n",
    "# Xử lý dữ liệu thiếu (nếu có)\n",
    "df = df.dropna()\n",
    "\n",
    "# Đặt 'close' làm biến mục tiêu\n",
    "X = df[['Open', 'Close']]  \n",
    "y = df[['Close']] \n",
    "\n",
    "# Chia tập dữ liệu\n",
    "X_train, X_test, y_train, y_test = train_test_split(X, y, test_size=0.2, random_state=42)\n",
    "# Huấn luyện mô hình\n",
    "model = RandomForestRegressor(n_estimators=100, random_state=42)\n",
    "model.fit(X_train, y_train)\n",
    "\n",
    "# Dự đoán giá trên tập dữ liệu kiểm tra\n",
    "y_pred = model.predict(X_test)\n",
    "\n",
    "# Đánh giá mô hình\n",
    "mse = mean_squared_error(y_test, y_pred)\n",
    "print(mse)\n",
    "\n",
    "# Dự đoán cho một mẫu dữ liệu mới\n",
    "new_data = []\n",
    "\n",
    "dump(model, '../predict.joblib')\n",
    "\n"
   ]
  },
  {
   "cell_type": "code",
   "execution_count": 39,
   "id": "987c19ec",
   "metadata": {},
   "outputs": [
    {
     "name": "stdout",
     "output_type": "stream",
     "text": [
      "Predicted Close Price: 64883.58129999998\n"
     ]
    },
    {
     "name": "stderr",
     "output_type": "stream",
     "text": [
      "/opt/anaconda3/envs/MLCOURSE/lib/python3.9/site-packages/sklearn/base.py:450: UserWarning: X does not have valid feature names, but RandomForestRegressor was fitted with feature names\n",
      "  warnings.warn(\n"
     ]
    }
   ],
   "source": [
    "\n",
    "from binance.client import Client\n",
    "from binance.enums import *\n",
    "\n",
    "# Khởi tạo client\n",
    "client = Client(api_key, api_secret)\n",
    "candles = client.futures_klines(symbol='BTCUSDT', interval=Client.KLINE_INTERVAL_15MINUTE, limit=5)\n",
    "\n",
    "# In kết quả\n",
    "for candle in candles:\n",
    "    open_time, open, high, low, close, volume, close_time, quote_asset_volume, number_of_trades, taker_buy_base_vol, taker_buy_quote_vol, ignore = candle\n",
    "    new_data.append([float(open)])\n",
    "\n",
    "predicted_close = model.predict([[65431.5, 64884.00]])\n",
    "print(f'Predicted Close Price: {predicted_close[0]}')"
   ]
  }
 ],
 "metadata": {
  "kernelspec": {
   "display_name": "Python 3 (ipykernel)",
   "language": "python",
   "name": "python3"
  },
  "language_info": {
   "codemirror_mode": {
    "name": "ipython",
    "version": 3
   },
   "file_extension": ".py",
   "mimetype": "text/x-python",
   "name": "python",
   "nbconvert_exporter": "python",
   "pygments_lexer": "ipython3",
   "version": "3.9.19"
  }
 },
 "nbformat": 4,
 "nbformat_minor": 5
}
