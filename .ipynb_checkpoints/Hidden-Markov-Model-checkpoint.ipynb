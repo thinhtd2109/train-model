{
 "cells": [
  {
   "cell_type": "code",
   "execution_count": 3,
   "id": "2115dc9d-c11e-48fd-80c7-ea6eb0d88371",
   "metadata": {},
   "outputs": [],
   "source": [
    "import pandas as pd\n",
    "import numpy as np\n",
    "from pandas_datareader import data as pdr\n",
    "from ta import add_all_ta_features\n",
    "from pyhhmm.gaussian import GaussianHMM\n",
    "import yfinance as yf\n",
    "yf.pdr_override()\n",
    "\n",
    "# Statistics\n",
    "from statsmodels.tsa.stattools import adfuller\n",
    "\n",
    "#Data Preprocessing\n",
    "from sklearn.preprocessing import LabelEncoder\n",
    "from sklearn.preprocessing import OneHotEncoder\n",
    "from sklearn.preprocessing import StandardScaler\n",
    "from sklearn.preprocessing import MinMaxScaler\n",
    "\n",
    "#Supervised Machine Learning\n",
    "from sklearn.model_selection import train_test_split\n",
    "from sklearn.model_selection import cross_val_score\n",
    "from sklearn.ensemble import RandomForestRegressor\n",
    "from sklearn.model_selection import RepeatedKFold\n",
    "\n",
    "#Reporting \n",
    "import matplotlib.pyplot as plt"
   ]
  },
  {
   "cell_type": "markdown",
   "id": "59d0e2de-0273-4fd3-9c7b-659772ed3dcc",
   "metadata": {},
   "source": [
    "# Data Management"
   ]
  },
  {
   "cell_type": "code",
   "execution_count": 17,
   "id": "514304d4-b2aa-46a6-9664-3ce9bba6beaa",
   "metadata": {},
   "outputs": [
    {
     "name": "stderr",
     "output_type": "stream",
     "text": [
      "[*********************100%%**********************]  1 of 1 completed\n"
     ]
    },
    {
     "data": {
      "text/html": [
       "<div>\n",
       "<style scoped>\n",
       "    .dataframe tbody tr th:only-of-type {\n",
       "        vertical-align: middle;\n",
       "    }\n",
       "\n",
       "    .dataframe tbody tr th {\n",
       "        vertical-align: top;\n",
       "    }\n",
       "\n",
       "    .dataframe thead th {\n",
       "        text-align: right;\n",
       "    }\n",
       "</style>\n",
       "<table border=\"1\" class=\"dataframe\">\n",
       "  <thead>\n",
       "    <tr style=\"text-align: right;\">\n",
       "      <th></th>\n",
       "      <th>Open</th>\n",
       "      <th>High</th>\n",
       "      <th>Low</th>\n",
       "      <th>Adj Close</th>\n",
       "      <th>Volume</th>\n",
       "    </tr>\n",
       "    <tr>\n",
       "      <th>Date</th>\n",
       "      <th></th>\n",
       "      <th></th>\n",
       "      <th></th>\n",
       "      <th></th>\n",
       "      <th></th>\n",
       "    </tr>\n",
       "  </thead>\n",
       "  <tbody>\n",
       "    <tr>\n",
       "      <th>2017-01-01</th>\n",
       "      <td>963.658020</td>\n",
       "      <td>1003.080017</td>\n",
       "      <td>958.698975</td>\n",
       "      <td>998.325012</td>\n",
       "      <td>147775008</td>\n",
       "    </tr>\n",
       "    <tr>\n",
       "      <th>2017-01-02</th>\n",
       "      <td>998.617004</td>\n",
       "      <td>1031.390015</td>\n",
       "      <td>996.702026</td>\n",
       "      <td>1021.750000</td>\n",
       "      <td>222184992</td>\n",
       "    </tr>\n",
       "    <tr>\n",
       "      <th>2017-01-03</th>\n",
       "      <td>1021.599976</td>\n",
       "      <td>1044.079956</td>\n",
       "      <td>1021.599976</td>\n",
       "      <td>1043.839966</td>\n",
       "      <td>185168000</td>\n",
       "    </tr>\n",
       "    <tr>\n",
       "      <th>2017-01-04</th>\n",
       "      <td>1044.400024</td>\n",
       "      <td>1159.420044</td>\n",
       "      <td>1044.400024</td>\n",
       "      <td>1154.729980</td>\n",
       "      <td>344945984</td>\n",
       "    </tr>\n",
       "    <tr>\n",
       "      <th>2017-01-05</th>\n",
       "      <td>1156.729980</td>\n",
       "      <td>1191.099976</td>\n",
       "      <td>910.416992</td>\n",
       "      <td>1013.380005</td>\n",
       "      <td>510199008</td>\n",
       "    </tr>\n",
       "    <tr>\n",
       "      <th>...</th>\n",
       "      <td>...</td>\n",
       "      <td>...</td>\n",
       "      <td>...</td>\n",
       "      <td>...</td>\n",
       "      <td>...</td>\n",
       "    </tr>\n",
       "    <tr>\n",
       "      <th>2024-04-07</th>\n",
       "      <td>68897.109375</td>\n",
       "      <td>70284.429688</td>\n",
       "      <td>68851.632812</td>\n",
       "      <td>69362.554688</td>\n",
       "      <td>21204930369</td>\n",
       "    </tr>\n",
       "    <tr>\n",
       "      <th>2024-04-08</th>\n",
       "      <td>69362.554688</td>\n",
       "      <td>72715.359375</td>\n",
       "      <td>69064.242188</td>\n",
       "      <td>71631.359375</td>\n",
       "      <td>37261432669</td>\n",
       "    </tr>\n",
       "    <tr>\n",
       "      <th>2024-04-09</th>\n",
       "      <td>71632.500000</td>\n",
       "      <td>71742.507812</td>\n",
       "      <td>68212.921875</td>\n",
       "      <td>69139.015625</td>\n",
       "      <td>36426900409</td>\n",
       "    </tr>\n",
       "    <tr>\n",
       "      <th>2024-04-10</th>\n",
       "      <td>69140.242188</td>\n",
       "      <td>71093.429688</td>\n",
       "      <td>67503.562500</td>\n",
       "      <td>70587.882812</td>\n",
       "      <td>38318601774</td>\n",
       "    </tr>\n",
       "    <tr>\n",
       "      <th>2024-04-11</th>\n",
       "      <td>70575.734375</td>\n",
       "      <td>71256.234375</td>\n",
       "      <td>69571.812500</td>\n",
       "      <td>70060.609375</td>\n",
       "      <td>30153382941</td>\n",
       "    </tr>\n",
       "  </tbody>\n",
       "</table>\n",
       "<p>2658 rows × 5 columns</p>\n",
       "</div>"
      ],
      "text/plain": [
       "                    Open          High           Low     Adj Close  \\\n",
       "Date                                                                 \n",
       "2017-01-01    963.658020   1003.080017    958.698975    998.325012   \n",
       "2017-01-02    998.617004   1031.390015    996.702026   1021.750000   \n",
       "2017-01-03   1021.599976   1044.079956   1021.599976   1043.839966   \n",
       "2017-01-04   1044.400024   1159.420044   1044.400024   1154.729980   \n",
       "2017-01-05   1156.729980   1191.099976    910.416992   1013.380005   \n",
       "...                  ...           ...           ...           ...   \n",
       "2024-04-07  68897.109375  70284.429688  68851.632812  69362.554688   \n",
       "2024-04-08  69362.554688  72715.359375  69064.242188  71631.359375   \n",
       "2024-04-09  71632.500000  71742.507812  68212.921875  69139.015625   \n",
       "2024-04-10  69140.242188  71093.429688  67503.562500  70587.882812   \n",
       "2024-04-11  70575.734375  71256.234375  69571.812500  70060.609375   \n",
       "\n",
       "                 Volume  \n",
       "Date                     \n",
       "2017-01-01    147775008  \n",
       "2017-01-02    222184992  \n",
       "2017-01-03    185168000  \n",
       "2017-01-04    344945984  \n",
       "2017-01-05    510199008  \n",
       "...                 ...  \n",
       "2024-04-07  21204930369  \n",
       "2024-04-08  37261432669  \n",
       "2024-04-09  36426900409  \n",
       "2024-04-10  38318601774  \n",
       "2024-04-11  30153382941  \n",
       "\n",
       "[2658 rows x 5 columns]"
      ]
     },
     "execution_count": 17,
     "metadata": {},
     "output_type": "execute_result"
    }
   ],
   "source": [
    "# Data Extraction\n",
    "start_date = '2017-01-01';\n",
    "end_date = '2024-04-12';\n",
    "\n",
    "data = pdr.DataReader('BTC-USD', start=start_date, end=end_date)\n",
    "data = data[['Open', 'High', 'Low', 'Adj Close', 'Volume']]\n",
    "data"
   ]
  },
  {
   "cell_type": "code",
   "execution_count": 18,
   "id": "77e4b712-0d70-490e-a74f-62f7f52b28f4",
   "metadata": {},
   "outputs": [],
   "source": [
    "## Add Returns And Range\n",
    "df = data.copy();\n",
    "\n",
    "df['Returns'] = (df['Adj Close'] / df['Adj Close'].shift(1)) - 1;\n",
    "df['Range'] = (df['High'] / df['Low']) - 1;\n",
    "df.dropna(inplace=True);"
   ]
  },
  {
   "cell_type": "code",
   "execution_count": 14,
   "id": "92c6e8ab-d148-4385-a5c2-0c2e7e28d226",
   "metadata": {},
   "outputs": [
    {
     "data": {
      "text/html": [
       "<div>\n",
       "<style scoped>\n",
       "    .dataframe tbody tr th:only-of-type {\n",
       "        vertical-align: middle;\n",
       "    }\n",
       "\n",
       "    .dataframe tbody tr th {\n",
       "        vertical-align: top;\n",
       "    }\n",
       "\n",
       "    .dataframe thead th {\n",
       "        text-align: right;\n",
       "    }\n",
       "</style>\n",
       "<table border=\"1\" class=\"dataframe\">\n",
       "  <thead>\n",
       "    <tr style=\"text-align: right;\">\n",
       "      <th></th>\n",
       "      <th>Returns</th>\n",
       "      <th>Range</th>\n",
       "    </tr>\n",
       "    <tr>\n",
       "      <th>Date</th>\n",
       "      <th></th>\n",
       "      <th></th>\n",
       "    </tr>\n",
       "  </thead>\n",
       "  <tbody>\n",
       "    <tr>\n",
       "      <th>2017-01-02</th>\n",
       "      <td>0.023464</td>\n",
       "      <td>0.034803</td>\n",
       "    </tr>\n",
       "    <tr>\n",
       "      <th>2017-01-03</th>\n",
       "      <td>0.021620</td>\n",
       "      <td>0.022005</td>\n",
       "    </tr>\n",
       "    <tr>\n",
       "      <th>2017-01-04</th>\n",
       "      <td>0.106233</td>\n",
       "      <td>0.110130</td>\n",
       "    </tr>\n",
       "    <tr>\n",
       "      <th>2017-01-05</th>\n",
       "      <td>-0.122410</td>\n",
       "      <td>0.308302</td>\n",
       "    </tr>\n",
       "    <tr>\n",
       "      <th>2017-01-06</th>\n",
       "      <td>-0.109711</td>\n",
       "      <td>0.184249</td>\n",
       "    </tr>\n",
       "    <tr>\n",
       "      <th>...</th>\n",
       "      <td>...</td>\n",
       "      <td>...</td>\n",
       "    </tr>\n",
       "    <tr>\n",
       "      <th>2024-04-07</th>\n",
       "      <td>0.006770</td>\n",
       "      <td>0.020810</td>\n",
       "    </tr>\n",
       "    <tr>\n",
       "      <th>2024-04-08</th>\n",
       "      <td>0.032709</td>\n",
       "      <td>0.052866</td>\n",
       "    </tr>\n",
       "    <tr>\n",
       "      <th>2024-04-09</th>\n",
       "      <td>-0.034794</td>\n",
       "      <td>0.051744</td>\n",
       "    </tr>\n",
       "    <tr>\n",
       "      <th>2024-04-10</th>\n",
       "      <td>0.020956</td>\n",
       "      <td>0.053180</td>\n",
       "    </tr>\n",
       "    <tr>\n",
       "      <th>2024-04-11</th>\n",
       "      <td>-0.007470</td>\n",
       "      <td>0.024211</td>\n",
       "    </tr>\n",
       "  </tbody>\n",
       "</table>\n",
       "<p>2657 rows × 2 columns</p>\n",
       "</div>"
      ],
      "text/plain": [
       "             Returns     Range\n",
       "Date                          \n",
       "2017-01-02  0.023464  0.034803\n",
       "2017-01-03  0.021620  0.022005\n",
       "2017-01-04  0.106233  0.110130\n",
       "2017-01-05 -0.122410  0.308302\n",
       "2017-01-06 -0.109711  0.184249\n",
       "...              ...       ...\n",
       "2024-04-07  0.006770  0.020810\n",
       "2024-04-08  0.032709  0.052866\n",
       "2024-04-09 -0.034794  0.051744\n",
       "2024-04-10  0.020956  0.053180\n",
       "2024-04-11 -0.007470  0.024211\n",
       "\n",
       "[2657 rows x 2 columns]"
      ]
     },
     "execution_count": 14,
     "metadata": {},
     "output_type": "execute_result"
    }
   ],
   "source": [
    "# Structure Data\n",
    "X_train = df[['Returns', 'Range']]\n",
    "X_train"
   ]
  },
  {
   "cell_type": "markdown",
   "id": "925b59b0-bef7-4ef3-a04a-ff6138a04631",
   "metadata": {},
   "source": [
    "### HMM Learning "
   ]
  },
  {
   "cell_type": "code",
   "execution_count": 21,
   "id": "676c751c-42bd-4f2f-a6b8-fcef563997e2",
   "metadata": {},
   "outputs": [
    {
     "data": {
      "text/plain": [
       "<pyhhmm.gaussian.GaussianHMM at 0x14f20b580>"
      ]
     },
     "execution_count": 21,
     "metadata": {},
     "output_type": "execute_result"
    }
   ],
   "source": [
    "model = GaussianHMM(n_states = 4, covariance_type='full', n_emissions=2) \n",
    "model.train([np.array(X_train.values)]);\n",
    "model"
   ]
  },
  {
   "cell_type": "code",
   "execution_count": 32,
   "id": "78b40d89-1e58-49a5-93ec-2d1103b873b1",
   "metadata": {},
   "outputs": [
    {
     "data": {
      "text/plain": [
       "array([0, 0, 2, 1, 1, 1, 2, 3, 0, 1, 2, 2, 3, 0, 0, 2, 3, 0, 0, 0, 3, 0,\n",
       "       3, 0, 0, 0, 3, 0, 3, 0, 0, 0, 0, 0, 3, 0, 0, 3, 1, 2], dtype=int32)"
      ]
     },
     "execution_count": 32,
     "metadata": {},
     "output_type": "execute_result"
    }
   ],
   "source": [
    "#Check Results\n",
    "hidden_states = model.predict([X_train.values])[0]\n",
    "hidden_states[:40]"
   ]
  },
  {
   "cell_type": "code",
   "execution_count": 33,
   "id": "3906d19a-e661-42b6-97d8-c84e170e38a1",
   "metadata": {},
   "outputs": [
    {
     "data": {
      "text/plain": [
       "array([[ 0.01353414,  0.03064206],\n",
       "       [-0.04158962,  0.12337256],\n",
       "       [ 0.04714478,  0.08084809],\n",
       "       [-0.01574903,  0.03803952]])"
      ]
     },
     "execution_count": 33,
     "metadata": {},
     "output_type": "execute_result"
    }
   ],
   "source": [
    "# Regime state means for each feature\n",
    "model.means"
   ]
  },
  {
   "cell_type": "code",
   "execution_count": 28,
   "id": "efe694cd-2474-4170-bb0b-d83b724a765a",
   "metadata": {},
   "outputs": [
    {
     "data": {
      "text/plain": [
       "array([[[ 0.00028518,  0.00022079],\n",
       "        [ 0.00022079,  0.00025473]],\n",
       "\n",
       "       [[ 0.00315604, -0.00164093],\n",
       "        [-0.00164093,  0.00486344]],\n",
       "\n",
       "       [[ 0.00189593,  0.00143039],\n",
       "        [ 0.00143039,  0.00145052]],\n",
       "\n",
       "       [[ 0.00037986, -0.00029069],\n",
       "        [-0.00029069,  0.00042544]]])"
      ]
     },
     "execution_count": 28,
     "metadata": {},
     "output_type": "execute_result"
    }
   ],
   "source": [
    "# Regime state convars for each feature\n",
    "model.covars"
   ]
  },
  {
   "cell_type": "markdown",
   "id": "0b1e23c5-2698-4b22-bf93-d750e1958e4a",
   "metadata": {},
   "source": [
    "# Data Visualization"
   ]
  },
  {
   "cell_type": "code",
   "execution_count": 36,
   "id": "e1068367-6704-4c32-9516-81971314e4cc",
   "metadata": {},
   "outputs": [
    {
     "name": "stdout",
     "output_type": "stream",
     "text": [
      "True\n"
     ]
    }
   ],
   "source": [
    "# Structure the prices for plotting\n",
    "i = 0;\n",
    "\n",
    "label_0 = []\n",
    "label_1 = []\n",
    "label_2 = []\n",
    "label_3 = []\n",
    "prices = df['Adj Close'].values.astype(float);\n",
    "\n",
    "print(len(prices) == len(hidden_states))\n",
    "\n",
    "for s in hidden_states:\n",
    "    if s == 0:\n",
    "        label_0.append(prices[i]);\n",
    "        label_1.append('nan');\n",
    "        label_2.append('nan');\n",
    "        label_3.append('nan');\n",
    "    if s == 1:\n",
    "        label_0.append('nan');\n",
    "        label_1.append(prices[i]);\n",
    "        label_2.append('nan');\n",
    "        label_3.append('nan');\n",
    "    if s == 2:\n",
    "        label_0.append('nan');\n",
    "        label_1.append('nan');\n",
    "        label_2.append(prices[i]);\n",
    "        label_3.append('nan');\n",
    "    if s == 3:\n",
    "        label_0.append('nan');\n",
    "        label_1.append('nan');\n",
    "        label_2.append('nan');\n",
    "        label_3.append(prices[i]);\n",
    "    i += 1;\n"
   ]
  },
  {
   "cell_type": "code",
   "execution_count": null,
   "id": "de078d74-6dd9-4ae6-b1ee-f59a4c94da33",
   "metadata": {},
   "outputs": [],
   "source": []
  }
 ],
 "metadata": {
  "kernelspec": {
   "display_name": "Python 3 (ipykernel)",
   "language": "python",
   "name": "python3"
  },
  "language_info": {
   "codemirror_mode": {
    "name": "ipython",
    "version": 3
   },
   "file_extension": ".py",
   "mimetype": "text/x-python",
   "name": "python",
   "nbconvert_exporter": "python",
   "pygments_lexer": "ipython3",
   "version": "3.9.19"
  }
 },
 "nbformat": 4,
 "nbformat_minor": 5
}
